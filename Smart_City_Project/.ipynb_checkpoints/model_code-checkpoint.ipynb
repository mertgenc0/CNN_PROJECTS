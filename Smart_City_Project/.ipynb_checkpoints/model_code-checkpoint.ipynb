{
  "nbformat": 4,
  "nbformat_minor": 0,
  "metadata": {
    "colab": {
      "provenance": [],
      "gpuType": "A100",
      "machine_shape": "hm"
    },
    "kernelspec": {
      "name": "python3",
      "display_name": "Python 3"
    },
    "language_info": {
      "name": "python"
    },
    "accelerator": "GPU"
  },
  "cells": [
    {
      "cell_type": "code",
      "source": [
        "import os\n",
        "\n",
        "video_folder = \"drive/MyDrive/Real_Life_Violence_Dataset/NonViolence\"\n",
        "\n",
        "print(os.listdir(video_folder))  # Burada videolar listeleniyor mu?\n"
      ],
      "metadata": {
        "colab": {
          "base_uri": "https://localhost:8080/"
        },
        "id": "ubUWmmkTjbGD",
        "outputId": "25f6cc55-1457-47a0-8655-e0ff3f3114f4"
      },
      "execution_count": null,
      "outputs": [
        {
          "output_type": "stream",
          "name": "stdout",
          "text": [
            "['NV_1000.mp4', 'NV_12.mp4', 'NV_125.mp4', 'NV_124.mp4', 'NV_123.mp4', 'NV_127.mp4', 'NV_142.mp4', 'NV_132.mp4', 'NV_143.mp4', 'NV_136.mp4', 'NV_141.mp4', 'NV_137.mp4', 'NV_131.mp4', 'NV_146.mp4', 'NV_145.mp4', 'NV_144.mp4', 'NV_140.mp4', 'NV_168.mp4', 'NV_156.mp4', 'NV_151.mp4', 'NV_152.mp4', 'NV_153.mp4', 'NV_169.mp4', 'NV_150.mp4', 'NV_157.mp4', 'NV_147.mp4', 'NV_154.mp4', 'NV_155.mp4', 'NV_186.mp4', 'NV_185.mp4', 'NV_181.mp4', 'NV_179.mp4', 'NV_178.mp4', 'NV_184.mp4', 'NV_183.mp4', 'NV_182.mp4', 'NV_190.mp4', 'NV_187.mp4', 'NV_180.mp4', 'NV_191.mp4', 'NV_192.mp4', 'NV_193.mp4', 'NV_208.mp4', 'NV_209.mp4', 'NV_196.mp4', 'NV_195.mp4', 'NV_197.mp4', 'NV_220.mp4', 'NV_223.mp4', 'NV_222.mp4', 'NV_219.mp4', 'NV_224.mp4', 'NV_225.mp4', 'NV_218.mp4', 'NV_221.mp4', 'NV_227.mp4', 'NV_230.mp4', 'NV_251.mp4', 'NV_233.mp4', 'NV_236.mp4', 'NV_250.mp4', 'NV_235.mp4', 'NV_234.mp4', 'NV_247.mp4', 'NV_240.mp4', 'NV_231.mp4', 'NV_232.mp4', 'NV_241.mp4', 'NV_237.mp4', 'NV_245.mp4', 'NV_246.mp4', 'NV_243.mp4', 'NV_244.mp4', 'NV_254.mp4', 'NV_253.mp4', 'NV_257.mp4', 'NV_252.mp4', 'NV_255.mp4', 'NV_283.mp4', 'NV_278.mp4', 'NV_291.mp4', 'NV_309.mp4', 'NV_331.mp4', 'NV_330.mp4', 'NV_332.mp4', 'NV_327.mp4', 'NV_335.mp4', 'NV_346.mp4', 'NV_345.mp4', 'NV_347.mp4', 'NV_342.mp4', 'NV_351.mp4', 'NV_341.mp4', 'NV_352.mp4', 'NV_340.mp4', 'NV_350.mp4', 'NV_344.mp4', 'NV_343.mp4', 'NV_369.mp4', 'NV_368.mp4', 'NV_382.mp4', 'NV_408.mp4', 'NV_384.mp4', 'NV_394.mp4', 'NV_409.mp4', 'NV_38.mp4', 'NV_385.mp4', 'NV_379.mp4', 'NV_383.mp4', 'NV_386.mp4', 'NV_390.mp4', 'NV_387.mp4', 'NV_378.mp4', 'NV_418.mp4', 'NV_39.mp4', 'NV_395.mp4', 'NV_419.mp4', 'NV_392.mp4', 'NV_397.mp4', 'NV_381.mp4', 'NV_380.mp4', 'NV_420.mp4', 'NV_391.mp4', 'NV_393.mp4', 'NV_396.mp4', 'NV_431.mp4', 'NV_443.mp4', 'NV_423.mp4', 'NV_457.mp4', 'NV_432.mp4', 'NV_421.mp4', 'NV_441.mp4', 'NV_437.mp4', 'NV_436.mp4', 'NV_454.mp4', 'NV_434.mp4', 'NV_422.mp4', 'NV_442.mp4', 'NV_424.mp4', 'NV_447.mp4', 'NV_426.mp4', 'NV_433.mp4', 'NV_446.mp4', 'NV_456.mp4', 'NV_427.mp4', 'NV_455.mp4', 'NV_435.mp4', 'NV_469.mp4', 'NV_425.mp4', 'NV_468.mp4', 'NV_452.mp4', 'NV_440.mp4', 'NV_430.mp4', 'NV_453.mp4', 'NV_480.mp4', 'NV_490.mp4', 'NV_495.mp4', 'NV_485.mp4', 'NV_484.mp4', 'NV_482.mp4', 'NV_494.mp4', 'NV_491.mp4', 'NV_481.mp4', 'NV_483.mp4', 'NV_497.mp4', 'NV_49.mp4', 'NV_496.mp4', 'NV_509.mp4', 'NV_523.mp4', 'NV_521.mp4', 'NV_508.mp4', 'NV_525.mp4', 'NV_526.mp4', 'NV_520.mp4', 'NV_522.mp4', 'NV_527.mp4', 'NV_532.mp4', 'NV_550.mp4', 'NV_542.mp4', 'NV_541.mp4', 'NV_537.mp4', 'NV_540.mp4', 'NV_552.mp4', 'NV_551.mp4', 'NV_543.mp4', 'NV_547.mp4', 'NV_533.mp4', 'NV_553.mp4', 'NV_531.mp4', 'NV_535.mp4', 'NV_546.mp4', 'NV_536.mp4', 'NV_534.mp4', 'NV_556.mp4', 'NV_555.mp4', 'NV_569.mp4', 'NV_557.mp4', 'NV_554.mp4', 'NV_584.mp4', 'NV_58.mp4', 'NV_587.mp4', 'NV_581.mp4', 'NV_597.mp4', 'NV_583.mp4', 'NV_596.mp4', 'NV_579.mp4', 'NV_585.mp4', 'NV_578.mp4', 'NV_595.mp4', 'NV_580.mp4', 'NV_592.mp4', 'NV_593.mp4', 'NV_582.mp4', 'NV_594.mp4', 'NV_60.mp4', 'NV_586.mp4', 'NV_619.mp4', 'NV_602.avi', 'NV_608.mp4', 'NV_637.mp4', 'NV_622.mp4', 'NV_632.mp4', 'NV_655.mp4', 'NV_651.mp4', 'NV_624.mp4', 'NV_635.mp4', 'NV_642.mp4', 'NV_633.mp4', 'NV_627.mp4', 'NV_630.mp4', 'NV_643.mp4', 'NV_625.mp4', 'NV_63.mp4', 'NV_64.mp4', 'NV_641.mp4', 'NV_62.mp4', 'NV_626.mp4', 'NV_645.mp4', 'NV_650.mp4', 'NV_634.mp4', 'NV_654.mp4', 'NV_657.mp4', 'NV_631.mp4', 'NV_65.mp4', 'NV_636.mp4', 'NV_620.mp4', 'NV_644.mp4', 'NV_640.mp4', 'NV_623.mp4', 'NV_621.mp4', 'NV_66.mp4', 'NV_656.mp4', 'NV_682.mp4', 'NV_683.mp4', 'NV_669.mp4', 'NV_679.mp4', 'NV_681.mp4', 'NV_686.mp4', 'NV_67.mp4', 'NV_678.mp4', 'NV_687.mp4', 'NV_692.mp4', 'NV_696.mp4', 'NV_695.mp4', 'NV_694.mp4', 'NV_70.mp4', 'NV_693.mp4', 'NV_708.mp4', 'NV_71.mp4', 'NV_735.mp4', 'NV_724.mp4', 'NV_72.mp4', 'NV_725.mp4', 'NV_740.mp4', 'NV_736.mp4', 'NV_74.mp4', 'NV_73.mp4', 'NV_741.mp4', 'NV_730.mp4', 'NV_734.mp4', 'NV_737.mp4', 'NV_731.mp4', 'NV_750.mp4', 'NV_76.mp4', 'NV_744.mp4', 'NV_752.mp4', 'NV_755.mp4', 'NV_743.mp4', 'NV_757.mp4', 'NV_747.mp4', 'NV_753.mp4', 'NV_756.mp4', 'NV_742.mp4', 'NV_754.mp4', 'NV_75.mp4', 'NV_751.mp4', 'NV_746.mp4', 'NV_745.mp4', 'NV_769.mp4', 'NV_790.mp4', 'NV_794.mp4', 'NV_795.mp4', 'NV_785.mp4', 'NV_793.mp4', 'NV_803.mp4', 'NV_806.mp4', 'NV_802.mp4', 'NV_810.mp4', 'NV_815.mp4', 'NV_839.mp4', 'NV_828.mp4', 'NV_838.mp4', 'NV_829.mp4', 'NV_88.mp4', 'NV_882.avi', 'NV_869.avi', 'NV_880.avi', 'NV_879.avi', 'NV_868.avi', 'NV_881.avi', 'NV_894.avi', 'NV_887.avi', 'NV_895.avi', 'NV_892.avi', 'NV_883.avi', 'NV_896.avi', 'NV_884.avi', 'NV_891.avi', 'NV_893.avi', 'NV_886.avi', 'NV_89.mp4', 'NV_890.avi', 'NV_885.avi', 'NV_911.mp4', 'NV_909.avi', 'NV_912.mp4', 'NV_913.mp4', 'NV_908.avi', 'NV_917.mp4', 'NV_938.mp4', 'NV_939.mp4', 'NV_960.mp4', 'NV_959.mp4', 'NV_961.mp4', 'NV_962.mp4', 'NV_958.mp4', 'NV_977.mp4', 'NV_975.mp4', 'NV_967.mp4', 'NV_98.mp4', 'NV_988.mp4', 'NV_998.mp4', 'NV_99.mp4']\n"
          ]
        }
      ]
    },
    {
      "cell_type": "markdown",
      "source": [
        "# Yeni Bölüm"
      ],
      "metadata": {
        "id": "g715cjSPLz_s"
      }
    },
    {
      "cell_type": "code",
      "source": [
        "import tensorflow as tf\n",
        "\n",
        "gpus = tf.config.list_physical_devices('GPU')\n",
        "if gpus:\n",
        "    print(\"✅ GPU bulundu.\")\n",
        "    print(\"GPU adı:\", gpus[0])\n",
        "else:\n",
        "    print(\"❌ GPU yok.\")\n"
      ],
      "metadata": {
        "colab": {
          "base_uri": "https://localhost:8080/"
        },
        "id": "U-nbLhzhLO9F",
        "outputId": "bb9fcada-af72-48c9-dd91-e7f2744967d8"
      },
      "execution_count": 1,
      "outputs": [
        {
          "output_type": "stream",
          "name": "stdout",
          "text": [
            "✅ GPU bulundu.\n",
            "GPU adı: PhysicalDevice(name='/physical_device:GPU:0', device_type='GPU')\n"
          ]
        }
      ]
    },
    {
      "cell_type": "code",
      "execution_count": 2,
      "metadata": {
        "colab": {
          "base_uri": "https://localhost:8080/"
        },
        "id": "WFVkuxGbY0y3",
        "outputId": "c599eadc-a834-48e9-a722-de4eac726578"
      },
      "outputs": [
        {
          "output_type": "stream",
          "name": "stdout",
          "text": [
            "Toplam video sayısı: 2000\n"
          ]
        }
      ],
      "source": [
        "import os\n",
        "import cv2\n",
        "import numpy as np\n",
        "import matplotlib.pyplot as plt\n",
        "from sklearn.model_selection import train_test_split\n",
        "from tensorflow.keras import models, layers\n",
        "from tensorflow.keras.callbacks import EarlyStopping\n",
        "\n",
        "# Dataset yolunu belirt\n",
        "dataset_path = 'drive/MyDrive/vio/Real_Life_Violence_Dataset'\n",
        "\n",
        "# Sınıf isimleri ve etiketleri\n",
        "class_map = {\"Violence\": 1, \"NonViolence\": 0}\n",
        "\n",
        "# 1. Veri dosyalarını topla\n",
        "videos = []\n",
        "labels = []\n",
        "\n",
        "for class_name in os.listdir(dataset_path):\n",
        "    class_dir = os.path.join(dataset_path, class_name)\n",
        "    if not os.path.isdir(class_dir):\n",
        "        continue\n",
        "\n",
        "    for file_name in os.listdir(class_dir):\n",
        "        if file_name.endswith((\"mp4\", \".avi\", \".mov\")):\n",
        "            video_path = os.path.join(class_dir, file_name)\n",
        "            videos.append(video_path)\n",
        "            labels.append(class_map[class_name])\n",
        "\n",
        "print(f\"Toplam video sayısı: {len(videos)}\")"
      ]
    },
    {
      "cell_type": "code",
      "source": [
        "\n",
        "def extract_frames(video_path, max_frames=30, gray=True, resize=(224, 224)):\n",
        "    frames = []\n",
        "    cap = cv2.VideoCapture(video_path)\n",
        "    count = 0\n",
        "    while count < max_frames:\n",
        "        ret, frame = cap.read()\n",
        "        if not ret:\n",
        "            break\n",
        "        if gray:\n",
        "            frame = cv2.cvtColor(frame, cv2.COLOR_BGR2GRAY)\n",
        "        frame = cv2.resize(frame, resize)\n",
        "        frames.append(frame)\n",
        "        count += 1\n",
        "    cap.release()\n",
        "\n",
        "    if gray:\n",
        "        frames = [frame[..., np.newaxis] for frame in frames]\n",
        "    frames = np.array(frames)\n",
        "\n",
        "    # Eğer video 30 kareden azsa, 0 ile padding yap\n",
        "    if frames.shape[0] < max_frames:\n",
        "        pad_count = max_frames - frames.shape[0]\n",
        "        padding = np.zeros((pad_count, resize[0], resize[1], 1))\n",
        "        frames = np.concatenate((frames, padding), axis=0)\n",
        "\n",
        "    return frames"
      ],
      "metadata": {
        "id": "vMQT2PoMjObS"
      },
      "execution_count": 15,
      "outputs": []
    },
    {
      "cell_type": "code",
      "source": [
        "X = []\n",
        "y = []\n",
        "\n",
        "for video_path, label in zip(videos, labels):\n",
        "    frames = extract_frames(video_path, max_frames=20)\n",
        "    X.append(frames)\n",
        "    y.append(label)\n",
        "\n",
        "X = np.array(X, dtype=np.float32) / 255.0\n",
        "y = np.array(y)"
      ],
      "metadata": {
        "id": "FTgAbNOYjRjA"
      },
      "execution_count": 16,
      "outputs": []
    },
    {
      "cell_type": "code",
      "source": [
        "# 4. Veriyi eğitim ve test olarak ayır\n",
        "X_train, X_test, y_train, y_test = train_test_split(X, y, test_size=0.2, random_state=42)\n",
        "\n",
        "print(f\"Eğitim örnek sayısı: {len(X_train)}\")\n",
        "print(f\"Test örnek sayısı: {len(X_test)}\")\n"
      ],
      "metadata": {
        "id": "UwGRHESAjTp4",
        "colab": {
          "base_uri": "https://localhost:8080/"
        },
        "outputId": "608a7534-0d23-4013-9a7f-e256da8f637f"
      },
      "execution_count": 17,
      "outputs": [
        {
          "output_type": "stream",
          "name": "stdout",
          "text": [
            "Eğitim örnek sayısı: 1600\n",
            "Test örnek sayısı: 400\n"
          ]
        }
      ]
    },
    {
      "cell_type": "code",
      "source": [
        "input_shape = (30, 224, 224, 1)\n",
        "\n",
        "model = models.Sequential([\n",
        "    layers.Input(shape=input_shape),\n",
        "\n",
        "    layers.Conv3D(32, kernel_size=(3, 3, 3), activation='relu', padding='same'),\n",
        "    layers.BatchNormalization(),\n",
        "    layers.MaxPooling3D(pool_size=(1, 2, 2)),\n",
        "\n",
        "    layers.Conv3D(64, kernel_size=(3, 3, 3), activation='relu', padding='same'),\n",
        "    layers.BatchNormalization(),\n",
        "    layers.MaxPooling3D(pool_size=(2, 2, 2)),\n",
        "\n",
        "    layers.Conv3D(128, kernel_size=(3, 3, 3), activation='relu', padding='same'),\n",
        "    layers.BatchNormalization(),\n",
        "    layers.MaxPooling3D(pool_size=(2, 2, 2)),\n",
        "\n",
        "    layers.Conv3D(256, kernel_size=(3, 3, 3), activation='relu', padding='same'),\n",
        "    layers.BatchNormalization(),\n",
        "    layers.MaxPooling3D(pool_size=(2, 2, 2)),\n",
        "\n",
        "\n",
        "\n",
        "    layers.GlobalAveragePooling3D(),\n",
        "\n",
        "    layers.Dense(256, activation='relu'),\n",
        "    layers.Dropout(0.6),\n",
        "    layers.Dense(1, activation='sigmoid')\n",
        "])\n",
        "\n",
        "model.compile(optimizer='adam', loss='binary_crossentropy', metrics=['accuracy'])\n",
        "\n",
        "model.summary()"
      ],
      "metadata": {
        "id": "3kvUpEDcjWJy",
        "colab": {
          "base_uri": "https://localhost:8080/",
          "height": 809
        },
        "outputId": "591232e1-3945-4a77-de9a-bad9be493ddf"
      },
      "execution_count": 22,
      "outputs": [
        {
          "output_type": "display_data",
          "data": {
            "text/plain": [
              "\u001b[1mModel: \"sequential_6\"\u001b[0m\n"
            ],
            "text/html": [
              "<pre style=\"white-space:pre;overflow-x:auto;line-height:normal;font-family:Menlo,'DejaVu Sans Mono',consolas,'Courier New',monospace\"><span style=\"font-weight: bold\">Model: \"sequential_6\"</span>\n",
              "</pre>\n"
            ]
          },
          "metadata": {}
        },
        {
          "output_type": "display_data",
          "data": {
            "text/plain": [
              "┏━━━━━━━━━━━━━━━━━━━━━━━━━━━━━━━━━┳━━━━━━━━━━━━━━━━━━━━━━━━┳━━━━━━━━━━━━━━━┓\n",
              "┃\u001b[1m \u001b[0m\u001b[1mLayer (type)                   \u001b[0m\u001b[1m \u001b[0m┃\u001b[1m \u001b[0m\u001b[1mOutput Shape          \u001b[0m\u001b[1m \u001b[0m┃\u001b[1m \u001b[0m\u001b[1m      Param #\u001b[0m\u001b[1m \u001b[0m┃\n",
              "┡━━━━━━━━━━━━━━━━━━━━━━━━━━━━━━━━━╇━━━━━━━━━━━━━━━━━━━━━━━━╇━━━━━━━━━━━━━━━┩\n",
              "│ conv3d_20 (\u001b[38;5;33mConv3D\u001b[0m)              │ (\u001b[38;5;45mNone\u001b[0m, \u001b[38;5;34m30\u001b[0m, \u001b[38;5;34m224\u001b[0m, \u001b[38;5;34m224\u001b[0m,   │           \u001b[38;5;34m896\u001b[0m │\n",
              "│                                 │ \u001b[38;5;34m32\u001b[0m)                    │               │\n",
              "├─────────────────────────────────┼────────────────────────┼───────────────┤\n",
              "│ batch_normalization_20          │ (\u001b[38;5;45mNone\u001b[0m, \u001b[38;5;34m30\u001b[0m, \u001b[38;5;34m224\u001b[0m, \u001b[38;5;34m224\u001b[0m,   │           \u001b[38;5;34m128\u001b[0m │\n",
              "│ (\u001b[38;5;33mBatchNormalization\u001b[0m)            │ \u001b[38;5;34m32\u001b[0m)                    │               │\n",
              "├─────────────────────────────────┼────────────────────────┼───────────────┤\n",
              "│ max_pooling3d_20 (\u001b[38;5;33mMaxPooling3D\u001b[0m) │ (\u001b[38;5;45mNone\u001b[0m, \u001b[38;5;34m30\u001b[0m, \u001b[38;5;34m112\u001b[0m, \u001b[38;5;34m112\u001b[0m,   │             \u001b[38;5;34m0\u001b[0m │\n",
              "│                                 │ \u001b[38;5;34m32\u001b[0m)                    │               │\n",
              "├─────────────────────────────────┼────────────────────────┼───────────────┤\n",
              "│ conv3d_21 (\u001b[38;5;33mConv3D\u001b[0m)              │ (\u001b[38;5;45mNone\u001b[0m, \u001b[38;5;34m30\u001b[0m, \u001b[38;5;34m112\u001b[0m, \u001b[38;5;34m112\u001b[0m,   │        \u001b[38;5;34m55,360\u001b[0m │\n",
              "│                                 │ \u001b[38;5;34m64\u001b[0m)                    │               │\n",
              "├─────────────────────────────────┼────────────────────────┼───────────────┤\n",
              "│ batch_normalization_21          │ (\u001b[38;5;45mNone\u001b[0m, \u001b[38;5;34m30\u001b[0m, \u001b[38;5;34m112\u001b[0m, \u001b[38;5;34m112\u001b[0m,   │           \u001b[38;5;34m256\u001b[0m │\n",
              "│ (\u001b[38;5;33mBatchNormalization\u001b[0m)            │ \u001b[38;5;34m64\u001b[0m)                    │               │\n",
              "├─────────────────────────────────┼────────────────────────┼───────────────┤\n",
              "│ max_pooling3d_21 (\u001b[38;5;33mMaxPooling3D\u001b[0m) │ (\u001b[38;5;45mNone\u001b[0m, \u001b[38;5;34m15\u001b[0m, \u001b[38;5;34m56\u001b[0m, \u001b[38;5;34m56\u001b[0m, \u001b[38;5;34m64\u001b[0m) │             \u001b[38;5;34m0\u001b[0m │\n",
              "├─────────────────────────────────┼────────────────────────┼───────────────┤\n",
              "│ conv3d_22 (\u001b[38;5;33mConv3D\u001b[0m)              │ (\u001b[38;5;45mNone\u001b[0m, \u001b[38;5;34m15\u001b[0m, \u001b[38;5;34m56\u001b[0m, \u001b[38;5;34m56\u001b[0m,     │       \u001b[38;5;34m221,312\u001b[0m │\n",
              "│                                 │ \u001b[38;5;34m128\u001b[0m)                   │               │\n",
              "├─────────────────────────────────┼────────────────────────┼───────────────┤\n",
              "│ batch_normalization_22          │ (\u001b[38;5;45mNone\u001b[0m, \u001b[38;5;34m15\u001b[0m, \u001b[38;5;34m56\u001b[0m, \u001b[38;5;34m56\u001b[0m,     │           \u001b[38;5;34m512\u001b[0m │\n",
              "│ (\u001b[38;5;33mBatchNormalization\u001b[0m)            │ \u001b[38;5;34m128\u001b[0m)                   │               │\n",
              "├─────────────────────────────────┼────────────────────────┼───────────────┤\n",
              "│ max_pooling3d_22 (\u001b[38;5;33mMaxPooling3D\u001b[0m) │ (\u001b[38;5;45mNone\u001b[0m, \u001b[38;5;34m7\u001b[0m, \u001b[38;5;34m28\u001b[0m, \u001b[38;5;34m28\u001b[0m, \u001b[38;5;34m128\u001b[0m) │             \u001b[38;5;34m0\u001b[0m │\n",
              "├─────────────────────────────────┼────────────────────────┼───────────────┤\n",
              "│ conv3d_23 (\u001b[38;5;33mConv3D\u001b[0m)              │ (\u001b[38;5;45mNone\u001b[0m, \u001b[38;5;34m7\u001b[0m, \u001b[38;5;34m28\u001b[0m, \u001b[38;5;34m28\u001b[0m, \u001b[38;5;34m256\u001b[0m) │       \u001b[38;5;34m884,992\u001b[0m │\n",
              "├─────────────────────────────────┼────────────────────────┼───────────────┤\n",
              "│ batch_normalization_23          │ (\u001b[38;5;45mNone\u001b[0m, \u001b[38;5;34m7\u001b[0m, \u001b[38;5;34m28\u001b[0m, \u001b[38;5;34m28\u001b[0m, \u001b[38;5;34m256\u001b[0m) │         \u001b[38;5;34m1,024\u001b[0m │\n",
              "│ (\u001b[38;5;33mBatchNormalization\u001b[0m)            │                        │               │\n",
              "├─────────────────────────────────┼────────────────────────┼───────────────┤\n",
              "│ max_pooling3d_23 (\u001b[38;5;33mMaxPooling3D\u001b[0m) │ (\u001b[38;5;45mNone\u001b[0m, \u001b[38;5;34m3\u001b[0m, \u001b[38;5;34m14\u001b[0m, \u001b[38;5;34m14\u001b[0m, \u001b[38;5;34m256\u001b[0m) │             \u001b[38;5;34m0\u001b[0m │\n",
              "├─────────────────────────────────┼────────────────────────┼───────────────┤\n",
              "│ global_average_pooling3d_6      │ (\u001b[38;5;45mNone\u001b[0m, \u001b[38;5;34m256\u001b[0m)            │             \u001b[38;5;34m0\u001b[0m │\n",
              "│ (\u001b[38;5;33mGlobalAveragePooling3D\u001b[0m)        │                        │               │\n",
              "├─────────────────────────────────┼────────────────────────┼───────────────┤\n",
              "│ dense_12 (\u001b[38;5;33mDense\u001b[0m)                │ (\u001b[38;5;45mNone\u001b[0m, \u001b[38;5;34m256\u001b[0m)            │        \u001b[38;5;34m65,792\u001b[0m │\n",
              "├─────────────────────────────────┼────────────────────────┼───────────────┤\n",
              "│ dropout_6 (\u001b[38;5;33mDropout\u001b[0m)             │ (\u001b[38;5;45mNone\u001b[0m, \u001b[38;5;34m256\u001b[0m)            │             \u001b[38;5;34m0\u001b[0m │\n",
              "├─────────────────────────────────┼────────────────────────┼───────────────┤\n",
              "│ dense_13 (\u001b[38;5;33mDense\u001b[0m)                │ (\u001b[38;5;45mNone\u001b[0m, \u001b[38;5;34m1\u001b[0m)              │           \u001b[38;5;34m257\u001b[0m │\n",
              "└─────────────────────────────────┴────────────────────────┴───────────────┘\n"
            ],
            "text/html": [
              "<pre style=\"white-space:pre;overflow-x:auto;line-height:normal;font-family:Menlo,'DejaVu Sans Mono',consolas,'Courier New',monospace\">┏━━━━━━━━━━━━━━━━━━━━━━━━━━━━━━━━━┳━━━━━━━━━━━━━━━━━━━━━━━━┳━━━━━━━━━━━━━━━┓\n",
              "┃<span style=\"font-weight: bold\"> Layer (type)                    </span>┃<span style=\"font-weight: bold\"> Output Shape           </span>┃<span style=\"font-weight: bold\">       Param # </span>┃\n",
              "┡━━━━━━━━━━━━━━━━━━━━━━━━━━━━━━━━━╇━━━━━━━━━━━━━━━━━━━━━━━━╇━━━━━━━━━━━━━━━┩\n",
              "│ conv3d_20 (<span style=\"color: #0087ff; text-decoration-color: #0087ff\">Conv3D</span>)              │ (<span style=\"color: #00d7ff; text-decoration-color: #00d7ff\">None</span>, <span style=\"color: #00af00; text-decoration-color: #00af00\">30</span>, <span style=\"color: #00af00; text-decoration-color: #00af00\">224</span>, <span style=\"color: #00af00; text-decoration-color: #00af00\">224</span>,   │           <span style=\"color: #00af00; text-decoration-color: #00af00\">896</span> │\n",
              "│                                 │ <span style=\"color: #00af00; text-decoration-color: #00af00\">32</span>)                    │               │\n",
              "├─────────────────────────────────┼────────────────────────┼───────────────┤\n",
              "│ batch_normalization_20          │ (<span style=\"color: #00d7ff; text-decoration-color: #00d7ff\">None</span>, <span style=\"color: #00af00; text-decoration-color: #00af00\">30</span>, <span style=\"color: #00af00; text-decoration-color: #00af00\">224</span>, <span style=\"color: #00af00; text-decoration-color: #00af00\">224</span>,   │           <span style=\"color: #00af00; text-decoration-color: #00af00\">128</span> │\n",
              "│ (<span style=\"color: #0087ff; text-decoration-color: #0087ff\">BatchNormalization</span>)            │ <span style=\"color: #00af00; text-decoration-color: #00af00\">32</span>)                    │               │\n",
              "├─────────────────────────────────┼────────────────────────┼───────────────┤\n",
              "│ max_pooling3d_20 (<span style=\"color: #0087ff; text-decoration-color: #0087ff\">MaxPooling3D</span>) │ (<span style=\"color: #00d7ff; text-decoration-color: #00d7ff\">None</span>, <span style=\"color: #00af00; text-decoration-color: #00af00\">30</span>, <span style=\"color: #00af00; text-decoration-color: #00af00\">112</span>, <span style=\"color: #00af00; text-decoration-color: #00af00\">112</span>,   │             <span style=\"color: #00af00; text-decoration-color: #00af00\">0</span> │\n",
              "│                                 │ <span style=\"color: #00af00; text-decoration-color: #00af00\">32</span>)                    │               │\n",
              "├─────────────────────────────────┼────────────────────────┼───────────────┤\n",
              "│ conv3d_21 (<span style=\"color: #0087ff; text-decoration-color: #0087ff\">Conv3D</span>)              │ (<span style=\"color: #00d7ff; text-decoration-color: #00d7ff\">None</span>, <span style=\"color: #00af00; text-decoration-color: #00af00\">30</span>, <span style=\"color: #00af00; text-decoration-color: #00af00\">112</span>, <span style=\"color: #00af00; text-decoration-color: #00af00\">112</span>,   │        <span style=\"color: #00af00; text-decoration-color: #00af00\">55,360</span> │\n",
              "│                                 │ <span style=\"color: #00af00; text-decoration-color: #00af00\">64</span>)                    │               │\n",
              "├─────────────────────────────────┼────────────────────────┼───────────────┤\n",
              "│ batch_normalization_21          │ (<span style=\"color: #00d7ff; text-decoration-color: #00d7ff\">None</span>, <span style=\"color: #00af00; text-decoration-color: #00af00\">30</span>, <span style=\"color: #00af00; text-decoration-color: #00af00\">112</span>, <span style=\"color: #00af00; text-decoration-color: #00af00\">112</span>,   │           <span style=\"color: #00af00; text-decoration-color: #00af00\">256</span> │\n",
              "│ (<span style=\"color: #0087ff; text-decoration-color: #0087ff\">BatchNormalization</span>)            │ <span style=\"color: #00af00; text-decoration-color: #00af00\">64</span>)                    │               │\n",
              "├─────────────────────────────────┼────────────────────────┼───────────────┤\n",
              "│ max_pooling3d_21 (<span style=\"color: #0087ff; text-decoration-color: #0087ff\">MaxPooling3D</span>) │ (<span style=\"color: #00d7ff; text-decoration-color: #00d7ff\">None</span>, <span style=\"color: #00af00; text-decoration-color: #00af00\">15</span>, <span style=\"color: #00af00; text-decoration-color: #00af00\">56</span>, <span style=\"color: #00af00; text-decoration-color: #00af00\">56</span>, <span style=\"color: #00af00; text-decoration-color: #00af00\">64</span>) │             <span style=\"color: #00af00; text-decoration-color: #00af00\">0</span> │\n",
              "├─────────────────────────────────┼────────────────────────┼───────────────┤\n",
              "│ conv3d_22 (<span style=\"color: #0087ff; text-decoration-color: #0087ff\">Conv3D</span>)              │ (<span style=\"color: #00d7ff; text-decoration-color: #00d7ff\">None</span>, <span style=\"color: #00af00; text-decoration-color: #00af00\">15</span>, <span style=\"color: #00af00; text-decoration-color: #00af00\">56</span>, <span style=\"color: #00af00; text-decoration-color: #00af00\">56</span>,     │       <span style=\"color: #00af00; text-decoration-color: #00af00\">221,312</span> │\n",
              "│                                 │ <span style=\"color: #00af00; text-decoration-color: #00af00\">128</span>)                   │               │\n",
              "├─────────────────────────────────┼────────────────────────┼───────────────┤\n",
              "│ batch_normalization_22          │ (<span style=\"color: #00d7ff; text-decoration-color: #00d7ff\">None</span>, <span style=\"color: #00af00; text-decoration-color: #00af00\">15</span>, <span style=\"color: #00af00; text-decoration-color: #00af00\">56</span>, <span style=\"color: #00af00; text-decoration-color: #00af00\">56</span>,     │           <span style=\"color: #00af00; text-decoration-color: #00af00\">512</span> │\n",
              "│ (<span style=\"color: #0087ff; text-decoration-color: #0087ff\">BatchNormalization</span>)            │ <span style=\"color: #00af00; text-decoration-color: #00af00\">128</span>)                   │               │\n",
              "├─────────────────────────────────┼────────────────────────┼───────────────┤\n",
              "│ max_pooling3d_22 (<span style=\"color: #0087ff; text-decoration-color: #0087ff\">MaxPooling3D</span>) │ (<span style=\"color: #00d7ff; text-decoration-color: #00d7ff\">None</span>, <span style=\"color: #00af00; text-decoration-color: #00af00\">7</span>, <span style=\"color: #00af00; text-decoration-color: #00af00\">28</span>, <span style=\"color: #00af00; text-decoration-color: #00af00\">28</span>, <span style=\"color: #00af00; text-decoration-color: #00af00\">128</span>) │             <span style=\"color: #00af00; text-decoration-color: #00af00\">0</span> │\n",
              "├─────────────────────────────────┼────────────────────────┼───────────────┤\n",
              "│ conv3d_23 (<span style=\"color: #0087ff; text-decoration-color: #0087ff\">Conv3D</span>)              │ (<span style=\"color: #00d7ff; text-decoration-color: #00d7ff\">None</span>, <span style=\"color: #00af00; text-decoration-color: #00af00\">7</span>, <span style=\"color: #00af00; text-decoration-color: #00af00\">28</span>, <span style=\"color: #00af00; text-decoration-color: #00af00\">28</span>, <span style=\"color: #00af00; text-decoration-color: #00af00\">256</span>) │       <span style=\"color: #00af00; text-decoration-color: #00af00\">884,992</span> │\n",
              "├─────────────────────────────────┼────────────────────────┼───────────────┤\n",
              "│ batch_normalization_23          │ (<span style=\"color: #00d7ff; text-decoration-color: #00d7ff\">None</span>, <span style=\"color: #00af00; text-decoration-color: #00af00\">7</span>, <span style=\"color: #00af00; text-decoration-color: #00af00\">28</span>, <span style=\"color: #00af00; text-decoration-color: #00af00\">28</span>, <span style=\"color: #00af00; text-decoration-color: #00af00\">256</span>) │         <span style=\"color: #00af00; text-decoration-color: #00af00\">1,024</span> │\n",
              "│ (<span style=\"color: #0087ff; text-decoration-color: #0087ff\">BatchNormalization</span>)            │                        │               │\n",
              "├─────────────────────────────────┼────────────────────────┼───────────────┤\n",
              "│ max_pooling3d_23 (<span style=\"color: #0087ff; text-decoration-color: #0087ff\">MaxPooling3D</span>) │ (<span style=\"color: #00d7ff; text-decoration-color: #00d7ff\">None</span>, <span style=\"color: #00af00; text-decoration-color: #00af00\">3</span>, <span style=\"color: #00af00; text-decoration-color: #00af00\">14</span>, <span style=\"color: #00af00; text-decoration-color: #00af00\">14</span>, <span style=\"color: #00af00; text-decoration-color: #00af00\">256</span>) │             <span style=\"color: #00af00; text-decoration-color: #00af00\">0</span> │\n",
              "├─────────────────────────────────┼────────────────────────┼───────────────┤\n",
              "│ global_average_pooling3d_6      │ (<span style=\"color: #00d7ff; text-decoration-color: #00d7ff\">None</span>, <span style=\"color: #00af00; text-decoration-color: #00af00\">256</span>)            │             <span style=\"color: #00af00; text-decoration-color: #00af00\">0</span> │\n",
              "│ (<span style=\"color: #0087ff; text-decoration-color: #0087ff\">GlobalAveragePooling3D</span>)        │                        │               │\n",
              "├─────────────────────────────────┼────────────────────────┼───────────────┤\n",
              "│ dense_12 (<span style=\"color: #0087ff; text-decoration-color: #0087ff\">Dense</span>)                │ (<span style=\"color: #00d7ff; text-decoration-color: #00d7ff\">None</span>, <span style=\"color: #00af00; text-decoration-color: #00af00\">256</span>)            │        <span style=\"color: #00af00; text-decoration-color: #00af00\">65,792</span> │\n",
              "├─────────────────────────────────┼────────────────────────┼───────────────┤\n",
              "│ dropout_6 (<span style=\"color: #0087ff; text-decoration-color: #0087ff\">Dropout</span>)             │ (<span style=\"color: #00d7ff; text-decoration-color: #00d7ff\">None</span>, <span style=\"color: #00af00; text-decoration-color: #00af00\">256</span>)            │             <span style=\"color: #00af00; text-decoration-color: #00af00\">0</span> │\n",
              "├─────────────────────────────────┼────────────────────────┼───────────────┤\n",
              "│ dense_13 (<span style=\"color: #0087ff; text-decoration-color: #0087ff\">Dense</span>)                │ (<span style=\"color: #00d7ff; text-decoration-color: #00d7ff\">None</span>, <span style=\"color: #00af00; text-decoration-color: #00af00\">1</span>)              │           <span style=\"color: #00af00; text-decoration-color: #00af00\">257</span> │\n",
              "└─────────────────────────────────┴────────────────────────┴───────────────┘\n",
              "</pre>\n"
            ]
          },
          "metadata": {}
        },
        {
          "output_type": "display_data",
          "data": {
            "text/plain": [
              "\u001b[1m Total params: \u001b[0m\u001b[38;5;34m1,230,529\u001b[0m (4.69 MB)\n"
            ],
            "text/html": [
              "<pre style=\"white-space:pre;overflow-x:auto;line-height:normal;font-family:Menlo,'DejaVu Sans Mono',consolas,'Courier New',monospace\"><span style=\"font-weight: bold\"> Total params: </span><span style=\"color: #00af00; text-decoration-color: #00af00\">1,230,529</span> (4.69 MB)\n",
              "</pre>\n"
            ]
          },
          "metadata": {}
        },
        {
          "output_type": "display_data",
          "data": {
            "text/plain": [
              "\u001b[1m Trainable params: \u001b[0m\u001b[38;5;34m1,229,569\u001b[0m (4.69 MB)\n"
            ],
            "text/html": [
              "<pre style=\"white-space:pre;overflow-x:auto;line-height:normal;font-family:Menlo,'DejaVu Sans Mono',consolas,'Courier New',monospace\"><span style=\"font-weight: bold\"> Trainable params: </span><span style=\"color: #00af00; text-decoration-color: #00af00\">1,229,569</span> (4.69 MB)\n",
              "</pre>\n"
            ]
          },
          "metadata": {}
        },
        {
          "output_type": "display_data",
          "data": {
            "text/plain": [
              "\u001b[1m Non-trainable params: \u001b[0m\u001b[38;5;34m960\u001b[0m (3.75 KB)\n"
            ],
            "text/html": [
              "<pre style=\"white-space:pre;overflow-x:auto;line-height:normal;font-family:Menlo,'DejaVu Sans Mono',consolas,'Courier New',monospace\"><span style=\"font-weight: bold\"> Non-trainable params: </span><span style=\"color: #00af00; text-decoration-color: #00af00\">960</span> (3.75 KB)\n",
              "</pre>\n"
            ]
          },
          "metadata": {}
        }
      ]
    },
    {
      "cell_type": "code",
      "source": [
        "from tensorflow.keras.callbacks import EarlyStopping, ModelCheckpoint, ReduceLROnPlateau\n",
        "callbacks = [\n",
        "    EarlyStopping(monitor='val_loss', patience=7, restore_best_weights=True),\n",
        "    ModelCheckpoint('model7.h5', save_best_only=True),\n",
        "    ReduceLROnPlateau(monitor='val_loss', factor=0.2, patience=3, verbose=1)\n",
        "]\n",
        "\n",
        "# 7. Modeli eğit\n",
        "history = model.fit(\n",
        "    X_train, y_train,\n",
        "    epochs=70,\n",
        "    batch_size=16,\n",
        "    validation_data=(X_test, y_test),\n",
        "    callbacks=callbacks,\n",
        "    verbose=1\n",
        ")\n"
      ],
      "metadata": {
        "id": "SiE_44j6jYrg",
        "colab": {
          "base_uri": "https://localhost:8080/"
        },
        "outputId": "fe08ebaa-9fc4-4e0f-e3b7-e8631efb1400"
      },
      "execution_count": 25,
      "outputs": [
        {
          "output_type": "stream",
          "name": "stdout",
          "text": [
            "Epoch 1/70\n",
            "\u001b[1m100/100\u001b[0m \u001b[32m━━━━━━━━━━━━━━━━━━━━\u001b[0m\u001b[37m\u001b[0m \u001b[1m0s\u001b[0m 105ms/step - accuracy: 0.9371 - loss: 0.1752"
          ]
        },
        {
          "output_type": "stream",
          "name": "stderr",
          "text": [
            "WARNING:absl:You are saving your model as an HDF5 file via `model.save()` or `keras.saving.save_model(model)`. This file format is considered legacy. We recommend using instead the native Keras format, e.g. `model.save('my_model.keras')` or `keras.saving.save_model(model, 'my_model.keras')`. \n"
          ]
        },
        {
          "output_type": "stream",
          "name": "stdout",
          "text": [
            "\b\b\b\b\b\b\b\b\b\b\b\b\b\b\b\b\b\b\b\b\b\b\b\b\b\b\b\b\b\b\b\b\b\b\b\b\b\b\b\b\b\b\b\b\b\b\b\b\b\b\b\b\b\b\b\b\b\b\b\b\b\b\b\b\b\b\b\b\b\b\b\b\b\b\b\b\r\u001b[1m100/100\u001b[0m \u001b[32m━━━━━━━━━━━━━━━━━━━━\u001b[0m\u001b[37m\u001b[0m \u001b[1m13s\u001b[0m 131ms/step - accuracy: 0.9371 - loss: 0.1753 - val_accuracy: 0.8900 - val_loss: 0.2942 - learning_rate: 8.0000e-06\n",
            "Epoch 2/70\n",
            "\u001b[1m100/100\u001b[0m \u001b[32m━━━━━━━━━━━━━━━━━━━━\u001b[0m\u001b[37m\u001b[0m \u001b[1m11s\u001b[0m 114ms/step - accuracy: 0.9188 - loss: 0.2082 - val_accuracy: 0.8875 - val_loss: 0.2991 - learning_rate: 8.0000e-06\n",
            "Epoch 3/70\n",
            "\u001b[1m100/100\u001b[0m \u001b[32m━━━━━━━━━━━━━━━━━━━━\u001b[0m\u001b[37m\u001b[0m \u001b[1m11s\u001b[0m 114ms/step - accuracy: 0.9401 - loss: 0.1710 - val_accuracy: 0.8850 - val_loss: 0.2955 - learning_rate: 8.0000e-06\n",
            "Epoch 4/70\n",
            "\u001b[1m100/100\u001b[0m \u001b[32m━━━━━━━━━━━━━━━━━━━━\u001b[0m\u001b[37m\u001b[0m \u001b[1m0s\u001b[0m 106ms/step - accuracy: 0.9284 - loss: 0.1952\n",
            "Epoch 4: ReduceLROnPlateau reducing learning rate to 1.6000001778593287e-06.\n",
            "\u001b[1m100/100\u001b[0m \u001b[32m━━━━━━━━━━━━━━━━━━━━\u001b[0m\u001b[37m\u001b[0m \u001b[1m12s\u001b[0m 115ms/step - accuracy: 0.9284 - loss: 0.1952 - val_accuracy: 0.8825 - val_loss: 0.2956 - learning_rate: 8.0000e-06\n",
            "Epoch 5/70\n",
            "\u001b[1m100/100\u001b[0m \u001b[32m━━━━━━━━━━━━━━━━━━━━\u001b[0m\u001b[37m\u001b[0m \u001b[1m11s\u001b[0m 114ms/step - accuracy: 0.9283 - loss: 0.1891 - val_accuracy: 0.8975 - val_loss: 0.2974 - learning_rate: 1.6000e-06\n",
            "Epoch 6/70\n",
            "\u001b[1m100/100\u001b[0m \u001b[32m━━━━━━━━━━━━━━━━━━━━\u001b[0m\u001b[37m\u001b[0m \u001b[1m11s\u001b[0m 114ms/step - accuracy: 0.9365 - loss: 0.1854 - val_accuracy: 0.8950 - val_loss: 0.2968 - learning_rate: 1.6000e-06\n",
            "Epoch 7/70\n",
            "\u001b[1m100/100\u001b[0m \u001b[32m━━━━━━━━━━━━━━━━━━━━\u001b[0m\u001b[37m\u001b[0m \u001b[1m0s\u001b[0m 105ms/step - accuracy: 0.9328 - loss: 0.1706\n",
            "Epoch 7: ReduceLROnPlateau reducing learning rate to 3.200000264769187e-07.\n",
            "\u001b[1m100/100\u001b[0m \u001b[32m━━━━━━━━━━━━━━━━━━━━\u001b[0m\u001b[37m\u001b[0m \u001b[1m11s\u001b[0m 114ms/step - accuracy: 0.9327 - loss: 0.1708 - val_accuracy: 0.8950 - val_loss: 0.2988 - learning_rate: 1.6000e-06\n",
            "Epoch 8/70\n",
            "\u001b[1m100/100\u001b[0m \u001b[32m━━━━━━━━━━━━━━━━━━━━\u001b[0m\u001b[37m\u001b[0m \u001b[1m11s\u001b[0m 114ms/step - accuracy: 0.9221 - loss: 0.1853 - val_accuracy: 0.8975 - val_loss: 0.2985 - learning_rate: 3.2000e-07\n"
          ]
        }
      ]
    }
  ]
}