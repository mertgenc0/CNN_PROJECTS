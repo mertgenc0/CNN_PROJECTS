{
 "cells": [
  {
   "cell_type": "code",
   "execution_count": 3,
   "id": "634a98ea-d887-40d0-a2d7-70f609234cfd",
   "metadata": {},
   "outputs": [
    {
     "name": "stdout",
     "output_type": "stream",
     "text": [
      "Requirement already satisfied: opencv-python in /opt/anaconda3/lib/python3.12/site-packages (4.11.0.86)\n",
      "Requirement already satisfied: numpy>=1.21.2 in /opt/anaconda3/lib/python3.12/site-packages (from opencv-python) (1.26.4)\n",
      "Note: you may need to restart the kernel to use updated packages.\n"
     ]
    }
   ],
   "source": [
    "pip install opencv-python"
   ]
  },
  {
   "cell_type": "code",
   "execution_count": 59,
   "id": "55626500-be3f-4640-8be5-92f3af523002",
   "metadata": {},
   "outputs": [],
   "source": [
    "import matplotlib.pyplot as plt\n",
    "import os\n",
    "import cv2\n",
    "import numpy as np\n",
    "\n",
    "dataset_path = '/Users/mertgenc/Desktop/aı_datasets/Real_Life_Violence_Dataset'\n",
    "\n",
    "def get_data(dataset_path):\n",
    "    videos = []\n",
    "    labels = []\n",
    "\n",
    "    class_map = {\"Violence\": 1, \"NonViolence\":0}\n",
    "    \n",
    "    for class_name in os.listdir(dataset_path):\n",
    "        class_dir = os.path.join(dataset_path, class_name)\n",
    "        if not os.path.isdir(class_dir):\n",
    "            continue\n",
    "\n",
    "        for file_name in os.listdir(class_dir):\n",
    "            if file_name.endswith((\"mp4\", \".avi\", \".mov\")):\n",
    "                video_path = os.path.join(class_dir, file_name)\n",
    "                videos.append(video_path)\n",
    "                labels.append(class_map[class_name])\n",
    "    return videos, labels\n",
    "#get_data(dataset_path)\n",
    "\n",
    "def extract_frames(video_path, max_frames=40, gray=True, resize=(224,224)):\n",
    "    frames = []\n",
    "    cap = cv2.VideoCapture(video_path)\n",
    "    count = 0 \n",
    "    while count < max_frames:\n",
    "        ret, frame = cap.read()\n",
    "        if not ret:\n",
    "            break\n",
    "        if gray:\n",
    "            frame = cv2.cvtColor(frame, cv2.COLOR_BGR2GRAY)\n",
    "        frame = cv2.resize(frame, resize)\n",
    "        frames.append(frame)\n",
    "        count += 1\n",
    "    cap.release()\n",
    "\n",
    "    if gray:\n",
    "        frames = [frame[..., np.newaxis] for frame in frames]\n",
    "    frames = np.array(frames)\n",
    "    \n",
    "    # Padding\n",
    "    if frames.shape[0] < max_frames:\n",
    "        pad_count = max_frames - frames.shape[0]\n",
    "        padding = np.zeros((pad_count, resize[0], resize[1], 1))\n",
    "        frames = np.concatenate((frames, padding), axis=0)\n",
    "    \n",
    "    return frames\n",
    "\n",
    "\n",
    "\n",
    "\n",
    "def show_frames(frames, num_to_show=40,cols=5):\n",
    "    rows = (num_to_show + cols - 1) // cols  \n",
    "    plt.figure(figsize=(cols * 3, rows * 3))\n",
    "    for i in range(min(num_to_show, len(frames))):\n",
    "        plt.subplot(rows, cols, i + 1)\n",
    "        frame = frames[i].squeeze()\n",
    "        plt.imshow(frame, cmap='gray')\n",
    "        plt.axis('off')\n",
    "        plt.title(f\"Frame {i+1}\")\n",
    "\n",
    "    plt.tight_layout()\n",
    "    plt.show()\n",
    "\n",
    "\n",
    "###video_path = '/Users/mertgenc/Desktop/aı_datasets/Real_Life_Violence_Dataset/Violence/V_257.mp4'\n",
    "###frames = extract_frames(video_path, max_frames=40)\n",
    "###show_frames(frames, num_to_show=40)\n"
   ]
  },
  {
   "cell_type": "code",
   "execution_count": null,
   "id": "d1fb6b66-907f-42c7-a7d3-ebe7067ee8bc",
   "metadata": {},
   "outputs": [],
   "source": []
  }
 ],
 "metadata": {
  "kernelspec": {
   "display_name": "Python [conda env:base] *",
   "language": "python",
   "name": "conda-base-py"
  },
  "language_info": {
   "codemirror_mode": {
    "name": "ipython",
    "version": 3
   },
   "file_extension": ".py",
   "mimetype": "text/x-python",
   "name": "python",
   "nbconvert_exporter": "python",
   "pygments_lexer": "ipython3",
   "version": "3.12.7"
  }
 },
 "nbformat": 4,
 "nbformat_minor": 5
}
